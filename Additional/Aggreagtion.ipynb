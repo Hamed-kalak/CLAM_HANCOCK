{
 "cells": [
  {
   "cell_type": "code",
   "execution_count": null,
   "metadata": {},
   "outputs": [],
   "source": [
    "import pandas as pd\n",
    "import os\n",
    "from PIL import Image\n",
    "import matplotlib.pyplot as plt\n",
    "import json\n",
    "import csv\n",
    "import pickle\n",
    "import numpy as np\n",
    "from sklearn.metrics import roc_curve, auc\n",
    "import seaborn as sns\n"
   ]
  },
  {
   "cell_type": "markdown",
   "metadata": {},
   "source": [
    "# Extracing a csv file with labels and times to event \n",
    "# survival and recurrence task"
   ]
  },
  {
   "cell_type": "code",
   "execution_count": null,
   "metadata": {},
   "outputs": [],
   "source": [
    "\n",
    "csv_file_path = '/data_slow2/ve59kedo/patched_256/process_list_autogen.csv'\n",
    "json_file_path = '/data_slow2/ve59kedo/seg/json/clinical_data.json'\n",
    "output_csv_path = '/data/ve59kedo/thesis/test.csv'\n",
    "\n",
    "df_csv = pd.read_csv(csv_file_path)\n",
    "\n",
    "df_csv['patient_id'] = df_csv['slide_id'].str.extract('PrimaryTumor_HE_(\\d+)')\n",
    "df_csv['patient_id'] = 'PrimaryTumor_HE_' + df_csv['patient_id'].str.zfill(3)\n",
    "\n",
    "with open(json_file_path, 'r') as file:\n",
    "    clinical_data = json.load(file)\n",
    "\n",
    "df_json = pd.DataFrame(clinical_data)\n",
    "df_json['patient_id'] = df_json['patient_id'].astype(str)\n",
    "df_json['patient_id'] = 'PrimaryTumor_HE_' + df_json['patient_id'].str.zfill(3)\n",
    "\n",
    "columns_to_merge = ['patient_id', 'days_to_last_information', 'survival_status_with_cause', 'recurrence', 'days_to_recurrence']\n",
    "\n",
    "result_df = pd.merge(df_csv[['patient_id']], df_json[columns_to_merge], on='patient_id', how='left')\n",
    "\n",
    "result_df.to_csv(output_csv_path, index=False)\n",
    "\n",
    "df = pd.read_csv(output_csv_path)\n",
    "\n",
    "df.insert(0, 'case_id', df['patient_id'])\n",
    "\n",
    "df.loc[df.duplicated('patient_id'), 'patient_id'] = df['patient_id'] + '_a'\n",
    "df.to_csv(output_csv_path, index=False)\n",
    "\n",
    "print(\"The data has been processed and saved to\", output_csv_path)\n"
   ]
  },
  {
   "cell_type": "markdown",
   "metadata": {},
   "source": [
    "# filtering the csv files "
   ]
  },
  {
   "cell_type": "code",
   "execution_count": 12,
   "metadata": {},
   "outputs": [
    {
     "ename": "KeyError",
     "evalue": "'time'",
     "output_type": "error",
     "traceback": [
      "\u001b[0;31m---------------------------------------------------------------------------\u001b[0m",
      "\u001b[0;31mKeyError\u001b[0m                                  Traceback (most recent call last)",
      "File \u001b[0;32m/data/ve59kedo/tmp/conda/envs/clam_latest/lib/python3.10/site-packages/pandas/core/indexes/base.py:3802\u001b[0m, in \u001b[0;36mIndex.get_loc\u001b[0;34m(self, key, method, tolerance)\u001b[0m\n\u001b[1;32m   3801\u001b[0m \u001b[38;5;28;01mtry\u001b[39;00m:\n\u001b[0;32m-> 3802\u001b[0m     \u001b[38;5;28;01mreturn\u001b[39;00m \u001b[38;5;28;43mself\u001b[39;49m\u001b[38;5;241;43m.\u001b[39;49m\u001b[43m_engine\u001b[49m\u001b[38;5;241;43m.\u001b[39;49m\u001b[43mget_loc\u001b[49m\u001b[43m(\u001b[49m\u001b[43mcasted_key\u001b[49m\u001b[43m)\u001b[49m\n\u001b[1;32m   3803\u001b[0m \u001b[38;5;28;01mexcept\u001b[39;00m \u001b[38;5;167;01mKeyError\u001b[39;00m \u001b[38;5;28;01mas\u001b[39;00m err:\n",
      "File \u001b[0;32m/data/ve59kedo/tmp/conda/envs/clam_latest/lib/python3.10/site-packages/pandas/_libs/index.pyx:138\u001b[0m, in \u001b[0;36mpandas._libs.index.IndexEngine.get_loc\u001b[0;34m()\u001b[0m\n",
      "File \u001b[0;32m/data/ve59kedo/tmp/conda/envs/clam_latest/lib/python3.10/site-packages/pandas/_libs/index.pyx:165\u001b[0m, in \u001b[0;36mpandas._libs.index.IndexEngine.get_loc\u001b[0;34m()\u001b[0m\n",
      "File \u001b[0;32mpandas/_libs/hashtable_class_helper.pxi:5745\u001b[0m, in \u001b[0;36mpandas._libs.hashtable.PyObjectHashTable.get_item\u001b[0;34m()\u001b[0m\n",
      "File \u001b[0;32mpandas/_libs/hashtable_class_helper.pxi:5753\u001b[0m, in \u001b[0;36mpandas._libs.hashtable.PyObjectHashTable.get_item\u001b[0;34m()\u001b[0m\n",
      "\u001b[0;31mKeyError\u001b[0m: 'time'",
      "\nThe above exception was the direct cause of the following exception:\n",
      "\u001b[0;31mKeyError\u001b[0m                                  Traceback (most recent call last)",
      "Cell \u001b[0;32mIn[12], line 7\u001b[0m\n\u001b[1;32m      3\u001b[0m output_csv_file \u001b[38;5;241m=\u001b[39m \u001b[38;5;124m'\u001b[39m\u001b[38;5;124m/data/ve59kedo/thesis/clam/CLAM/dataset_csv/risk_surv_test.csv\u001b[39m\u001b[38;5;124m'\u001b[39m\n\u001b[1;32m      5\u001b[0m df \u001b[38;5;241m=\u001b[39m pd\u001b[38;5;241m.\u001b[39mread_csv(csv_file)\n\u001b[0;32m----> 7\u001b[0m filtered_df \u001b[38;5;241m=\u001b[39m df[\u001b[38;5;241m~\u001b[39m((df[\u001b[38;5;124m'\u001b[39m\u001b[38;5;124mlabel\u001b[39m\u001b[38;5;124m'\u001b[39m] \u001b[38;5;241m==\u001b[39m \u001b[38;5;124m'\u001b[39m\u001b[38;5;124mtod\u001b[39m\u001b[38;5;124m'\u001b[39m) \u001b[38;5;241m&\u001b[39m (\u001b[43mdf\u001b[49m\u001b[43m[\u001b[49m\u001b[38;5;124;43m'\u001b[39;49m\u001b[38;5;124;43mtime\u001b[39;49m\u001b[38;5;124;43m'\u001b[39;49m\u001b[43m]\u001b[49m \u001b[38;5;241m>\u001b[39m \u001b[38;5;241m800\u001b[39m))]\n\u001b[1;32m      8\u001b[0m filtered_df \u001b[38;5;241m=\u001b[39m df[\u001b[38;5;241m~\u001b[39m((df[\u001b[38;5;124m'\u001b[39m\u001b[38;5;124mlabel\u001b[39m\u001b[38;5;124m'\u001b[39m] \u001b[38;5;241m==\u001b[39m \u001b[38;5;124m'\u001b[39m\u001b[38;5;124mlebt\u001b[39m\u001b[38;5;124m'\u001b[39m) \u001b[38;5;241m&\u001b[39m (df[\u001b[38;5;124m'\u001b[39m\u001b[38;5;124mtime\u001b[39m\u001b[38;5;124m'\u001b[39m] \u001b[38;5;241m<\u001b[39m \u001b[38;5;241m800\u001b[39m))]\n\u001b[1;32m     10\u001b[0m filtered_df\u001b[38;5;241m.\u001b[39mto_csv(output_csv_file, index\u001b[38;5;241m=\u001b[39m\u001b[38;5;28;01mFalse\u001b[39;00m)\n",
      "File \u001b[0;32m/data/ve59kedo/tmp/conda/envs/clam_latest/lib/python3.10/site-packages/pandas/core/frame.py:3807\u001b[0m, in \u001b[0;36mDataFrame.__getitem__\u001b[0;34m(self, key)\u001b[0m\n\u001b[1;32m   3805\u001b[0m \u001b[38;5;28;01mif\u001b[39;00m \u001b[38;5;28mself\u001b[39m\u001b[38;5;241m.\u001b[39mcolumns\u001b[38;5;241m.\u001b[39mnlevels \u001b[38;5;241m>\u001b[39m \u001b[38;5;241m1\u001b[39m:\n\u001b[1;32m   3806\u001b[0m     \u001b[38;5;28;01mreturn\u001b[39;00m \u001b[38;5;28mself\u001b[39m\u001b[38;5;241m.\u001b[39m_getitem_multilevel(key)\n\u001b[0;32m-> 3807\u001b[0m indexer \u001b[38;5;241m=\u001b[39m \u001b[38;5;28;43mself\u001b[39;49m\u001b[38;5;241;43m.\u001b[39;49m\u001b[43mcolumns\u001b[49m\u001b[38;5;241;43m.\u001b[39;49m\u001b[43mget_loc\u001b[49m\u001b[43m(\u001b[49m\u001b[43mkey\u001b[49m\u001b[43m)\u001b[49m\n\u001b[1;32m   3808\u001b[0m \u001b[38;5;28;01mif\u001b[39;00m is_integer(indexer):\n\u001b[1;32m   3809\u001b[0m     indexer \u001b[38;5;241m=\u001b[39m [indexer]\n",
      "File \u001b[0;32m/data/ve59kedo/tmp/conda/envs/clam_latest/lib/python3.10/site-packages/pandas/core/indexes/base.py:3804\u001b[0m, in \u001b[0;36mIndex.get_loc\u001b[0;34m(self, key, method, tolerance)\u001b[0m\n\u001b[1;32m   3802\u001b[0m     \u001b[38;5;28;01mreturn\u001b[39;00m \u001b[38;5;28mself\u001b[39m\u001b[38;5;241m.\u001b[39m_engine\u001b[38;5;241m.\u001b[39mget_loc(casted_key)\n\u001b[1;32m   3803\u001b[0m \u001b[38;5;28;01mexcept\u001b[39;00m \u001b[38;5;167;01mKeyError\u001b[39;00m \u001b[38;5;28;01mas\u001b[39;00m err:\n\u001b[0;32m-> 3804\u001b[0m     \u001b[38;5;28;01mraise\u001b[39;00m \u001b[38;5;167;01mKeyError\u001b[39;00m(key) \u001b[38;5;28;01mfrom\u001b[39;00m \u001b[38;5;21;01merr\u001b[39;00m\n\u001b[1;32m   3805\u001b[0m \u001b[38;5;28;01mexcept\u001b[39;00m \u001b[38;5;167;01mTypeError\u001b[39;00m:\n\u001b[1;32m   3806\u001b[0m     \u001b[38;5;66;03m# If we have a listlike key, _check_indexing_error will raise\u001b[39;00m\n\u001b[1;32m   3807\u001b[0m     \u001b[38;5;66;03m#  InvalidIndexError. Otherwise we fall through and re-raise\u001b[39;00m\n\u001b[1;32m   3808\u001b[0m     \u001b[38;5;66;03m#  the TypeError.\u001b[39;00m\n\u001b[1;32m   3809\u001b[0m     \u001b[38;5;28mself\u001b[39m\u001b[38;5;241m.\u001b[39m_check_indexing_error(key)\n",
      "\u001b[0;31mKeyError\u001b[0m: 'time'"
     ]
    }
   ],
   "source": [
    "# survival task\n",
    "csv_file = '/data/ve59kedo/thesis/clam/CLAM/dataset_csv/surv.csv'\n",
    "output_csv_file = '/data/ve59kedo/thesis/clam/CLAM/dataset_csv/risk_surv_test.csv'\n",
    "\n",
    "df = pd.read_csv(csv_file)\n",
    "\n",
    "filtered_df = df[~((df['label'] == 'tod') & (df['time'] > 800))]\n",
    "filtered_df = df[~((df['label'] == 'lebt') & (df['time'] < 800))]\n",
    "\n",
    "filtered_df.to_csv(output_csv_file, index=False)"
   ]
  },
  {
   "cell_type": "code",
   "execution_count": null,
   "metadata": {},
   "outputs": [],
   "source": [
    "Threshold_1 = 365 * 1 # change according to the 2, 3, 4 or 5\n",
    "\n",
    "df = pd.read_csv('/data_slow2/ve59kedo/filtered_tasks/DSTMA_full.csv')\n",
    "df = df[df['survival_status_with_cause'].isin(['living', 'deceased tumor specific', 'deceased'])]\n",
    "\n",
    "df = df[~((df['days_to_last_information'] < Threshold_1) & (~df['survival_status_with_cause'].isin(['deceased tumor specific', 'deceased'])))]\n",
    "\n",
    "df.loc[df['days_to_last_information'] > Threshold_1, 'survival_status_with_cause'] = 'living'\n",
    "\n",
    "df = df.drop(columns=['recurrence', 'days_to_recurrence'])\n",
    "\n",
    "df.to_csv('/data_slow2/ve59kedo/filtered_tasks/Th_1_TMA_surv.csv', index=False)"
   ]
  },
  {
   "cell_type": "code",
   "execution_count": 10,
   "metadata": {},
   "outputs": [
    {
     "name": "stdout",
     "output_type": "stream",
     "text": [
      "No categories found for legend.\n"
     ]
    },
    {
     "data": {
      "image/png": "[encoded data removed]",
      "text/plain": [
       "<Figure size 1000x600 with 1 Axes>"
      ]
     },
     "metadata": {},
     "output_type": "display_data"
    }
   ],
   "source": [
    "\n",
    "\n",
    "csv_file_path = '/data_slow2/ve59kedo/filtered_tasks/WSI_full.csv'\n",
    "df = pd.read_csv(csv_file_path)\n",
    "\n",
    "df = df.dropna(subset=['days_to_recurrence', 'days_to_last_information'], how='all')\n",
    "\n",
    "df['min_days'] = df[['days_to_recurrence', 'days_to_last_information']].min(axis=1, skipna=True)\n",
    "\n",
    "df['years_min_days'] = df['min_days'] / 365.25\n",
    "\n",
    "df['recurrence'] = df['recurrence'].astype('category')\n",
    "\n",
    "palette = {\"yes\": \"red\", \"no\": \"blue\"}\n",
    "\n",
    "plt.figure(figsize=(10, 6))\n",
    "plot = sns.histplot(\n",
    "    data=df, \n",
    "    x='years_min_days', \n",
    "    hue='recurrence', \n",
    "    element='step', \n",
    "    palette=palette, \n",
    "    bins=30\n",
    ")\n",
    "\n",
    "plt.title('Distribution of Minimum Years to Event by Recurrence Status')\n",
    "plt.xlabel('Years to Event (Recurrence or Last Information)')\n",
    "plt.ylabel('Frequency')\n",
    "\n",
    "# Adding threshold lines if needed (can adjust or remove)\n",
    "plt.axvline(1, color='gray', linestyle='--', lw=3)\n",
    "plt.axvline(2, color='gray', linestyle='--', lw=3)\n",
    "plt.axvline(3, color='gray', linestyle='--', lw=3)\n",
    "plt.axvline(4, color='gray', linestyle='--', lw=3)\n",
    "plt.axvline(5, color='gray', linestyle='--', lw=3)\n",
    "\n",
    "handles, labels = plot.get_legend_handles_labels()\n",
    "if labels:\n",
    "    plt.legend(handles=handles, title='Recurrence Status')\n",
    "else:\n",
    "    print(\"No categories found for legend.\")\n",
    "\n",
    "plt.grid(True)\n",
    "plt.tight_layout()\n",
    "plt.show()\n"
   ]
  },
  {
   "cell_type": "markdown",
   "metadata": {},
   "source": [
    "# Aggregation of TMAs and WSI"
   ]
  },
  {
   "cell_type": "code",
   "execution_count": 1,
   "metadata": {},
   "outputs": [],
   "source": [
    "import os\n",
    "import torch\n",
    "import h5py\n",
    "import numpy as np\n",
    "\n",
    "dstma_folder = '/data_slow2/ve59kedo/UNI_DSTMA_feat2_256'\n",
    "primary_folder = '/data_slow2/ve59kedo/UNI_WSI_feat_256_full'\n",
    "output_folder = '/data_slow2/ve59kedo/UNI_AG2_infer'\n",
    "\n",
    "h5_output_folder = os.path.join(output_folder, 'h5_files')\n",
    "pt_output_folder = os.path.join(output_folder, 'pt_files')\n",
    "\n",
    "os.makedirs(h5_output_folder, exist_ok=True)\n",
    "os.makedirs(pt_output_folder, exist_ok=True)\n",
    "\n",
    "def get_ids_and_paths(folder, pattern):\n",
    "    files = os.listdir(folder)\n",
    "    id_to_file = {}\n",
    "    for f in files:\n",
    "        if f.startswith(pattern):\n",
    "            id_part = f.split('_')[-1].split('.')[0]\n",
    "            id_to_file[id_part] = os.path.join(folder, f)\n",
    "    return id_to_file\n",
    "\n",
    "dstma_ids = get_ids_and_paths(os.path.join(dstma_folder, 'pt_files'), 'DSTMA')\n",
    "primary_ids = get_ids_and_paths(os.path.join(primary_folder, 'pt_files'), 'PrimaryTumor_HE')\n",
    "\n",
    "common_ids = set(dstma_ids.keys()).intersection(set(primary_ids.keys()))\n",
    "\n",
    "def concatenate_and_save_pt(id_, output_folder):\n",
    "    dstma_tensor = torch.load(dstma_ids[id_])\n",
    "    primary_tensor = torch.load(primary_ids[id_])\n",
    "    concatenated_tensor = torch.cat((dstma_tensor, primary_tensor), dim=0)\n",
    "    torch.save(concatenated_tensor, os.path.join(output_folder, f'AG2_{id_}.pt'))\n",
    "\n",
    "def concatenate_and_save_h5(id_, output_folder):\n",
    "    with h5py.File(os.path.join(dstma_folder, 'h5_files', f'DSTMA_{id_}.h5'), 'r') as dstma_h5, \\\n",
    "         h5py.File(os.path.join(primary_folder, 'h5_files', f'PrimaryTumor_HE_{id_}.h5'), 'r') as primary_h5:\n",
    "        dstma_coords = np.array(dstma_h5['coords'])\n",
    "        primary_coords = np.array(primary_h5['coords'])\n",
    "        dstma_feat = np.array(dstma_h5['features'])\n",
    " \n"
   ]
  },
  {
   "cell_type": "markdown",
   "metadata": {},
   "source": [
    "# Aggregation the csv files"
   ]
  },
  {
   "cell_type": "code",
   "execution_count": 1,
   "metadata": {},
   "outputs": [
    {
     "name": "stdout",
     "output_type": "stream",
     "text": [
      "Rows that didn't match any AG2_XXX ID:\n",
      "{'case_id': 'PrimaryTumor_HE_437', 'patient_id': 'PrimaryTumor_HE_437', 'days_to_last_information': '1684', 'survival_status_with_cause': 'living'}\n",
      "Filtered CSV written to: /data_slow2/ve59kedo/filtered_tasks/th_4_AG2_surv.csv\n"
     ]
    }
   ],
   "source": [
    "# change the th_X as needed\n",
    "\n",
    "input_csv_path = '/data_slow2/ve59kedo/filtered_tasks/Th_4_WSI_surv.csv'\n",
    "pt_files_folder = '/data_slow2/ve59kedo/UNI_AG2/pt_files'\n",
    "output_csv_path = '/data_slow2/ve59kedo/filtered_tasks/th_4_AG2_surv.csv'\n",
    "\n",
    "pt_file_ids = {os.path.splitext(f)[0].split('_')[1] for f in os.listdir(pt_files_folder) if f.startswith('AG2_') and f.endswith('.pt')}\n",
    "\n",
    "non_matching_rows = []\n",
    "\n",
    "with open(input_csv_path, mode='r', newline='', encoding='utf-8') as input_csv_file:\n",
    "    reader = csv.DictReader(input_csv_file)\n",
    "    fieldnames = reader.fieldnames\n",
    "\n",
    "    with open(output_csv_path, mode='w', newline='', encoding='utf-8') as output_csv_file:\n",
    "        writer = csv.DictWriter(output_csv_file, fieldnames=fieldnames)\n",
    "        writer.writeheader()\n",
    "\n",
    "        for row in reader:\n",
    "            case_id = row['case_id']\n",
    "            patient_id = case_id.split('_')[-1]\n",
    "\n",
    "            if patient_id in pt_file_ids:\n",
    "                writer.writerow(row)\n",
    "            else:\n",
    "                non_matching_rows.append(row)\n",
    "\n",
    "print(\"Rows that didn't match any AG2_XXX ID:\")\n",
    "for row in non_matching_rows:\n",
    "    print(row)\n",
    "\n",
    "print(f\"Filtered CSV written to: {output_csv_path}\")\n"
   ]
  }
 ],
 "metadata": {
  "kernelspec": {
   "display_name": "new_env",
   "language": "python",
   "name": "python3"
  },
  "language_info": {
   "codemirror_mode": {
    "name": "ipython",
    "version": 3
   },
   "file_extension": ".py",
   "mimetype": "text/x-python",
   "name": "python",
   "nbconvert_exporter": "python",
   "pygments_lexer": "ipython3",
   "version": "3.10.0"
  }
 },
 "nbformat": 4,
 "nbformat_minor": 2
}
