{
 "cells": [
  {
   "cell_type": "markdown",
   "metadata": {},
   "source": [
    "# Different sanity check codes"
   ]
  },
  {
   "cell_type": "code",
   "execution_count": 6,
   "metadata": {},
   "outputs": [],
   "source": [
    "import h5py\n",
    "import json\n",
    "import csv\n",
    "import os\n",
    "import torch\n",
    "import matplotlib.pyplot as plt"
   ]
  },
  {
   "cell_type": "code",
   "execution_count": 4,
   "metadata": {},
   "outputs": [
    {
     "name": "stdout",
     "output_type": "stream",
     "text": [
      "Mebeding size\n",
      "(2781, 1024)\n"
     ]
    }
   ],
   "source": [
    "# inspecting a sinlge embeding size\n",
    "\n",
    "#file_path = '/data_slow2/ve59kedo/UNI_AG2/h5_files/AG2_437.h5'\n",
    "#file_path = '/data_slow2/ve59kedo/UNI_DSTMA_feat2_256/h5_files/DSTMA_437.h5'\n",
    "file_path = '/data_slow2/ve59kedo/UNI_feat_256/h5_files/PrimaryTumor_HE_437.h5'\n",
    "\n",
    "with h5py.File(file_path, 'r') as h5_file:\n",
    "    features = h5_file['features']\n",
    "    features_data = features[()]\n",
    "    print(f\"Mebeding size\\n{features_data.shape}\")\n"
   ]
  },
  {
   "cell_type": "markdown",
   "metadata": {},
   "source": [
    "# making csv files"
   ]
  },
  {
   "cell_type": "code",
   "execution_count": 9,
   "metadata": {},
   "outputs": [],
   "source": [
    "\n",
    "\n",
    "slides_directory = '/data_slow/ve59kedo/feat_sampled'\n",
    "json_file_path = '/data_slow2/ve59kedo/seg/json/clinical_data.json'\n",
    "\n",
    "slide_files = [f for f in os.listdir(slides_directory) if f.endswith('.pt')]\n",
    "\n",
    "with open(json_file_path, 'r') as file:\n",
    "    data = json.load(file)\n",
    "\n",
    "patient_data = {item[\"patient_id\"]: item[\"days_to_recurrence\"] for item in data} # change as needed\n",
    "\n",
    "csv_data = []\n",
    "\n",
    "for slide_file in slide_files:\n",
    "    patient_id_with_extension = slide_file.split('_HE_')[1]\n",
    "    patient_id = patient_id_with_extension.split('.')[0]\n",
    "    patient_id_base = patient_id.rstrip('a').rstrip('_') if patient_id.endswith('a') else patient_id\n",
    "\n",
    "    label = patient_data.get(patient_id_base, \"Label not found\")\n",
    "\n",
    "    case_id = f'PrimaryTumor_HE_{patient_id}'\n",
    "    slide_id = case_id\n",
    "\n",
    "    csv_data.append([case_id, slide_id, label])\n",
    "\n",
    "with open('/data_slow2/ve59kedo/seg/json/'+'output.csv', 'w', newline='') as file:\n",
    "    writer = csv.writer(file)\n",
    "    writer.writerow(['case_id', 'slide_id', 'label'])\n",
    "    writer.writerows(csv_data)\n"
   ]
  },
  {
   "cell_type": "markdown",
   "metadata": {},
   "source": [
    "# plotting the distribution of embedings sizes"
   ]
  },
  {
   "cell_type": "code",
   "execution_count": 2,
   "metadata": {},
   "outputs": [
    {
     "data": {
      "image/png": "[encoded data removed]",
      "text/plain": [
       "<Figure size 1000x600 with 1 Axes>"
      ]
     },
     "metadata": {},
     "output_type": "display_data"
    }
   ],
   "source": [
    "\n",
    "samples_path = '/data_slow/ve59kedo/feat_sampled_2/pt_files'\n",
    "\n",
    "n_sizes = []\n",
    "\n",
    "for file in os.listdir(samples_path):\n",
    "    if file.endswith('.pt'):\n",
    "        file_path = os.path.join(samples_path, file)\n",
    "        tensor = torch.load(file_path)\n",
    "        n_sizes.append(tensor.shape[0])\n",
    "\n",
    "plt.figure(figsize=(10, 6))\n",
    "plt.hist(n_sizes, bins=30, edgecolor='k')\n",
    "plt.title('Distribution of n Sizes in .pt Files')\n",
    "plt.xlabel('Size of n')\n",
    "plt.ylabel('Frequency')\n",
    "plt.grid(True)\n",
    "plt.show()\n"
   ]
  },
  {
   "cell_type": "markdown",
   "metadata": {},
   "source": [
    "# for a given task how many samples we have for each class?"
   ]
  },
  {
   "cell_type": "code",
   "execution_count": 12,
   "metadata": {},
   "outputs": [
    {
     "name": "stdout",
     "output_type": "stream",
     "text": [
      "set          test  val\n",
      "label                 \n",
      "Hypopharynx     8    8\n",
      "Larynx         18   18\n",
      "Oral_Cavity    13   13\n",
      "Oropharynx     32   32\n"
     ]
    }
   ],
   "source": [
    "import pandas as pd\n",
    "\n",
    "labels_csv_path = '/data/ve59kedo/thesis/clam/CLAM/dataset_csv/localization_fix.csv'\n",
    "splits_csv_path = '/data/ve59kedo/thesis/results/EffNetB0_locNew_4class/exp_256k_sampled_1_s1/splits_0.csv'\n",
    "\n",
    "\n",
    "splits_df = pd.read_csv(splits_csv_path)\n",
    "labels_df = pd.read_csv(labels_csv_path)\n",
    "\n",
    "melted_splits_df = splits_df.melt(id_vars=[splits_df.columns[0]], value_vars=['val', 'test'], var_name='set', value_name='slide_id')\n",
    "\n",
    "merged_df = pd.merge(melted_splits_df, labels_df, on='slide_id')\n",
    "\n",
    "counts = merged_df.groupby(['label', 'set']).size().unstack(fill_value=0)\n",
    "\n",
    "print(counts)\n"
   ]
  },
  {
   "cell_type": "markdown",
   "metadata": {},
   "source": [
    "# making the csv files for the survival task"
   ]
  },
  {
   "cell_type": "code",
   "execution_count": 2,
   "metadata": {},
   "outputs": [],
   "source": [
    "\n",
    "slides_directory = '/data_slow/ve59kedo/feat/pt_files'\n",
    "json_file_path = '/data/ve59kedo/thesis/clam/seg/json/clinical_data.json'\n",
    "\n",
    "with open(json_file_path, 'r') as file:\n",
    "    data = json.load(file)\n",
    "patient_data = {\n",
    "    item[\"patient_id\"]: {\n",
    "        \"days_to_recurrence\": item.get(\"days_to_recurrence\", \"\"),  # Use .get to handle missing keys\n",
    "        \"days_to_last_information\": item.get(\"days_to_last_information\", \"\"),\n",
    "        \"recurrence\": item.get(\"recurrence\", \"\")  # Assuming 'event' is the key you mentioned\n",
    "    } for item in data\n",
    "}\n",
    "\n",
    "slide_files = [f for f in os.listdir(slides_directory) if f.endswith('.pt')]\n",
    "\n",
    "csv_data = []\n",
    "\n",
    "for slide_file in slide_files:\n",
    "    patient_id_with_extension = slide_file.split('_HE_')[1]\n",
    "    patient_id = patient_id_with_extension.split('.')[0]\n",
    "    patient_id_base = patient_id.rstrip('a').rstrip('_') if patient_id.endswith('a') else patient_id\n",
    "    patient_info = patient_data.get(patient_id_base, None)\n",
    "\n",
    "    if patient_info:\n",
    "        label = patient_info[\"days_to_recurrence\"] if patient_info[\"days_to_recurrence\"] else patient_info[\"days_to_last_information\"]\n",
    "        event = patient_info[\"recurrence\"]  # Access the 'event' information\n",
    "    else:\n",
    "        label = \"Label not found\"\n",
    "        event = \"Event not found\"\n",
    "\n",
    "    case_id = f'PrimaryTumor_HE_{patient_id}'\n",
    "    slide_id = case_id\n",
    "\n",
    "    csv_data.append([case_id, slide_id, event, label])  \n",
    "\n",
    "output_csv_path = '/data_slow2/ve59kedo/seg/json/output.csv'\n",
    "with open(output_csv_path, 'w', newline='') as file:\n",
    "    writer = csv.writer(file)\n",
    "    writer.writerow(['case_id', 'slide_id', 'event', 'label'])  \n",
    "    writer.writerows(csv_data)\n"
   ]
  },
  {
   "cell_type": "markdown",
   "metadata": {},
   "source": [
    "# checking the atributes of a h.5 files"
   ]
  },
  {
   "cell_type": "code",
   "execution_count": 7,
   "metadata": {},
   "outputs": [
    {
     "name": "stdout",
     "output_type": "stream",
     "text": [
      "Attributes for 'coords':\n",
      "downsample: [1. 1.]\n",
      "downsampled_level_dim: [110592 176128]\n",
      "level_dim: [110592 176128]\n",
      "name: PrimaryTumor_HE_600\n",
      "patch_level: 0\n",
      "patch_size: 2048\n",
      "save_path: /data_slow2/ve59kedo/new_feat/patches\n"
     ]
    }
   ],
   "source": [
    "\n",
    "file_path = '/data/ve59kedo/thesis/clam/seg/patches/PrimaryTumor_HE_600.h5'\n",
    "\n",
    "with h5py.File(file_path, 'r') as f:\n",
    "    coords_dataset = f['coords']\n",
    "    print(\"Attributes for 'coords':\")\n",
    "    for attr_name in coords_dataset.attrs:\n",
    "        print(f\"{attr_name}: {coords_dataset.attrs[attr_name]}\")\n"
   ]
  }
 ],
 "metadata": {
  "kernelspec": {
   "display_name": "new_env",
   "language": "python",
   "name": "python3"
  },
  "language_info": {
   "codemirror_mode": {
    "name": "ipython",
    "version": 3
   },
   "file_extension": ".py",
   "mimetype": "text/x-python",
   "name": "python",
   "nbconvert_exporter": "python",
   "pygments_lexer": "ipython3",
   "version": "3.10.0"
  }
 },
 "nbformat": 4,
 "nbformat_minor": 2
}
